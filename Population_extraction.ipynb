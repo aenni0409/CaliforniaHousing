{
 "cells": [
  {
   "cell_type": "code",
   "execution_count": 1,
   "metadata": {
    "collapsed": true
   },
   "outputs": [],
   "source": [
    "import json \n",
    "import urlparse\n",
    "import pandas as pd\n",
    "import requests\n",
    "import requests_cache\n",
    "requests_cache.install_cache(cache_name='cache')"
   ]
  },
  {
   "cell_type": "code",
   "execution_count": 2,
   "metadata": {
    "collapsed": true
   },
   "outputs": [],
   "source": [
    "mykey = \"\""
   ]
  },
  {
   "cell_type": "code",
   "execution_count": 11,
   "metadata": {
    "collapsed": false
   },
   "outputs": [],
   "source": [
    "# https://api.census.gov/data/2015/pep/population.html\n",
    "def extract_population(var,state,county,apikey = mykey):\n",
    "    \"\"\"\n",
    "    Input: the following 4 arguments is needed \n",
    "    Var: a list of variable\n",
    "    state: a code for state. * stands for all\n",
    "    county: a code for county. * stands for all\n",
    "    key: key for APT\n",
    "    \n",
    "    Output: a list of all search result\n",
    "    \"\"\"\n",
    "    base = \"http://api.census.gov/data/2015/pep/population?\"\n",
    "    response = requests.get(base, params = {\n",
    "            \"key\": mykey,\n",
    "            \"get\": \",\".join(var),\n",
    "            \"for\": \"county:\"+ str(county),\n",
    "            \"in\": \"state:\"+ str(state),\n",
    "        })\n",
    "    rawdata = response.json()\n",
    "    pop = pd.DataFrame([{\"Population\": item[0], \n",
    "                            \"County\": \" \".join(item[1].split(\",\")[0].split(\" \")[:-1]),\n",
    "                            \"StateCode\":item[2]} for item in rawdata]).drop(0)\n",
    "    return pop\n",
    "    "
   ]
  },
  {
   "cell_type": "code",
   "execution_count": 12,
   "metadata": {
    "collapsed": false
   },
   "outputs": [
    {
     "data": {
      "text/html": [
       "<div>\n",
       "<table border=\"1\" class=\"dataframe\">\n",
       "  <thead>\n",
       "    <tr style=\"text-align: right;\">\n",
       "      <th></th>\n",
       "      <th>County</th>\n",
       "      <th>Population</th>\n",
       "      <th>StateCode</th>\n",
       "    </tr>\n",
       "  </thead>\n",
       "  <tbody>\n",
       "    <tr>\n",
       "      <th>1</th>\n",
       "      <td>Alameda</td>\n",
       "      <td>1638215</td>\n",
       "      <td>California</td>\n",
       "    </tr>\n",
       "    <tr>\n",
       "      <th>2</th>\n",
       "      <td>Alpine</td>\n",
       "      <td>1110</td>\n",
       "      <td>California</td>\n",
       "    </tr>\n",
       "    <tr>\n",
       "      <th>3</th>\n",
       "      <td>Amador</td>\n",
       "      <td>37001</td>\n",
       "      <td>California</td>\n",
       "    </tr>\n",
       "    <tr>\n",
       "      <th>4</th>\n",
       "      <td>Butte</td>\n",
       "      <td>225411</td>\n",
       "      <td>California</td>\n",
       "    </tr>\n",
       "    <tr>\n",
       "      <th>5</th>\n",
       "      <td>Calaveras</td>\n",
       "      <td>44828</td>\n",
       "      <td>California</td>\n",
       "    </tr>\n",
       "  </tbody>\n",
       "</table>\n",
       "</div>"
      ],
      "text/plain": [
       "      County Population   StateCode\n",
       "1    Alameda    1638215  California\n",
       "2     Alpine       1110  California\n",
       "3     Amador      37001  California\n",
       "4      Butte     225411  California\n",
       "5  Calaveras      44828  California"
      ]
     },
     "execution_count": 12,
     "metadata": {},
     "output_type": "execute_result"
    }
   ],
   "source": [
    "# 6 stands for California\n",
    "population = extract_population([\"POP\",\"GEONAME\"],6,\"*\")\n",
    "population.ix[:,\"StateCode\"] = \"California\"\n",
    "population.head()"
   ]
  },
  {
   "cell_type": "code",
   "execution_count": 13,
   "metadata": {
    "collapsed": true
   },
   "outputs": [],
   "source": [
    "population.to_csv('population.csv')"
   ]
  },
  {
   "cell_type": "code",
   "execution_count": null,
   "metadata": {
    "collapsed": true
   },
   "outputs": [],
   "source": []
  }
 ],
 "metadata": {
  "anaconda-cloud": {},
  "kernelspec": {
   "display_name": "Python [default]",
   "language": "python",
   "name": "python2"
  },
  "language_info": {
   "codemirror_mode": {
    "name": "ipython",
    "version": 2
   },
   "file_extension": ".py",
   "mimetype": "text/x-python",
   "name": "python",
   "nbconvert_exporter": "python",
   "pygments_lexer": "ipython2",
   "version": "2.7.12"
  }
 },
 "nbformat": 4,
 "nbformat_minor": 1
}
