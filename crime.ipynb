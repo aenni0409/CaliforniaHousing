{
 "cells": [
  {
   "cell_type": "code",
   "execution_count": 3,
   "metadata": {
    "collapsed": false
   },
   "outputs": [],
   "source": [
    "import pandas as pd\n",
    "import numpy as np\n",
    "import os.path\n",
    "import re"
   ]
  },
  {
   "cell_type": "code",
   "execution_count": 26,
   "metadata": {
    "collapsed": true
   },
   "outputs": [],
   "source": [
    "path = \"~/Documents/CaliforniaHousing\"\n",
    "#filenames = os.listdir(path)\n",
    "ft = pd.read_excel(path+\"/CALIFORNIA.xls\",header=5)\n",
    "ft = ft.rename(columns={\"County\":\"RegionName\"}).ix[:56,:]"
   ]
  },
  {
   "cell_type": "code",
   "execution_count": 27,
   "metadata": {
    "collapsed": false
   },
   "outputs": [],
   "source": [
    "ft[\"RegionName\"] = [re.sub(\"[0-9]+\",\"\",x) for x in ft[\"RegionName\"]]\n",
    "ft[\"CrimeCases\"] = ft.sum(axis=1,numeric_only =True)\n",
    "ft = ft.ix[:,[1,13]]\n",
    "# include data in san francisco\n",
    "sf = pd.read_excel(path+\"/San Francisco.xls\",header=4).loc[:459]\n",
    "sf = sf.loc[sf[\"City\"]==\"San Francisco\"]\n",
    "sf = sf.rename(columns={\"City\":\"RegionName\"})"
   ]
  },
  {
   "cell_type": "code",
   "execution_count": 28,
   "metadata": {
    "collapsed": false
   },
   "outputs": [
    {
     "data": {
      "text/html": [
       "<div>\n",
       "<table border=\"1\" class=\"dataframe\">\n",
       "  <thead>\n",
       "    <tr style=\"text-align: right;\">\n",
       "      <th></th>\n",
       "      <th>RegionName</th>\n",
       "      <th>CrimeCases</th>\n",
       "    </tr>\n",
       "  </thead>\n",
       "  <tbody>\n",
       "    <tr>\n",
       "      <th>354</th>\n",
       "      <td>San Francisco</td>\n",
       "      <td>983512.0</td>\n",
       "    </tr>\n",
       "  </tbody>\n",
       "</table>\n",
       "</div>"
      ],
      "text/plain": [
       "        RegionName  CrimeCases\n",
       "354  San Francisco    983512.0"
      ]
     },
     "execution_count": 28,
     "metadata": {},
     "output_type": "execute_result"
    }
   ],
   "source": [
    "#use \"Rape(revised definition)1\"\n",
    "#del sf[\"Rape\\n(legacy\\ndefinition)2\"]\n",
    "sf[\"CrimeCases\"] = sf.sum(axis=1,numeric_only=True)\n",
    "sf = sf.ix[:,[0,12]]\n",
    "sf"
   ]
  },
  {
   "cell_type": "code",
   "execution_count": 30,
   "metadata": {
    "collapsed": true
   },
   "outputs": [],
   "source": [
    "ft1 = pd.merge(ft,sf,how=\"outer\",on=[\"RegionName\",\"CrimeCases\"])\n",
    "ft1.to_csv(\"crime.csv\")"
   ]
  },
  {
   "cell_type": "code",
   "execution_count": 60,
   "metadata": {
    "collapsed": false
   },
   "outputs": [],
   "source": [
    "# create a table with crime data ranging from 2005-2015\n",
    "path = \"C:/Users/Xin~/Documents/CaliforniaHousing/crime_data\"\n",
    "filenames = os.listdir(path)"
   ]
  },
  {
   "cell_type": "code",
   "execution_count": 95,
   "metadata": {
    "collapsed": false
   },
   "outputs": [],
   "source": [
    "# San Francisco is in the table by city\n",
    "# Only concat can combine multiple tables in the same time. If I use join or merge, I can define column to be the ID (on).However, I am not be able to do it by simply using concat.\n",
    "#crime_tt = pd.concat(crime_time,axis=1,join=\"outer\")\n",
    "# I cannot use left.join(right) here, because on=\"var\" should be a index for one dataframe and key for another dataframe. \n",
    "for files in filenames:\n",
    "    ft2 = pd.read_excel(path+\"/\"+files,header=5)\n",
    "    ft2 = ft2.rename(columns={\"County\":\"RegionName\"}).ix[:57,:]\n",
    "    ft2[\"RegionName\"] = [re.sub(\"[0-9]\",\"\",x) for x in ft2[\"RegionName\"]]\n",
    "    ft2[\"CrimeCases\"+files[:4]] = ft2.sum(axis=1,numeric_only =True)\n",
    "    #ft2[\"year\"] = files[:4]\n",
    "    ft2 = ft2.ix[:,[1,ft2.shape[1]-1]]\n",
    "    try:\n",
    "        crime_time = pd.merge(crime_time,ft2,on=\"RegionName\")\n",
    "    except NameError:\n",
    "        crime_time = ft2\n",
    "# crime_time.append(ft2)"
   ]
  },
  {
   "cell_type": "code",
   "execution_count": 97,
   "metadata": {
    "collapsed": false
   },
   "outputs": [],
   "source": [
    "crime_time.to_csv(\"crime05-15.csv\")"
   ]
  }
 ],
 "metadata": {
  "anaconda-cloud": {},
  "kernelspec": {
   "display_name": "Python [conda env:ipykernel_py2]",
   "language": "python",
   "name": "conda-env-ipykernel_py2-py"
  },
  "language_info": {
   "codemirror_mode": {
    "name": "ipython",
    "version": 2
   },
   "file_extension": ".py",
   "mimetype": "text/x-python",
   "name": "python",
   "nbconvert_exporter": "python",
   "pygments_lexer": "ipython2",
   "version": "2.7.13"
  }
 },
 "nbformat": 4,
 "nbformat_minor": 1
}
