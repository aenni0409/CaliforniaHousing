{
 "cells": [
  {
   "cell_type": "code",
   "execution_count": 1,
   "metadata": {
    "collapsed": false
   },
   "outputs": [],
   "source": [
    "import pandas as pd\n",
    "import numpy as np\n",
    "import os.path\n",
    "path = \"C:/Users/Xin~/Courses/Winter2017/STA141b/Final Project\"\n",
    "filenames = os.listdir(path)\n",
    "ft = pd.read_excel(path+\"/CALIFORNIA.xls\",header=5)\n",
    "ft = ft.rename(columns={\"County\":\"RegionName\"}).ix[:56,:]"
   ]
  },
  {
   "cell_type": "code",
   "execution_count": 2,
   "metadata": {
    "collapsed": false
   },
   "outputs": [],
   "source": [
    "import re\n",
    "ft[\"RegionName\"] = [re.sub(\"[0-9]+\",\"\",x) for x in ft[\"RegionName\"]]\n",
    "ft[\"CrimeCases\"] = ft.sum(axis=1,numeric_only =True)\n",
    "ft = ft.ix[:,[1,13]]"
   ]
  },
  {
   "cell_type": "code",
   "execution_count": 3,
   "metadata": {
    "collapsed": true
   },
   "outputs": [],
   "source": [
    "# include data in san francisco\n",
    "sf = pd.read_excel(path+\"/San Francisco.xls\",header=4).loc[:459]\n",
    "sf = sf.loc[sf[\"City\"]==\"San Francisco\"]\n",
    "sf = sf.rename(columns={\"City\":\"RegionName\"})\n",
    "sf[\"CrimeCases\"] = sf.sum(axis=1,numeric_only=True)\n",
    "sf = sf.ix[:,[0,13]]\n",
    "sf"
   ]
  },
  {
   "cell_type": "code",
   "execution_count": 74,
   "metadata": {
    "collapsed": true
   },
   "outputs": [],
   "source": [
    "ft1 = pd.merge(ft,sf,how=\"outer\",on=[\"RegionName\",\"CrimeCases\"])\n",
    "#ft1.to_csv(\"crime.csv\")"
   ]
  },
  {
   "cell_type": "code",
   "execution_count": 76,
   "metadata": {
    "collapsed": false
   },
   "outputs": [],
   "source": [
    "# generate plots \n"
   ]
  }
 ],
 "metadata": {
  "anaconda-cloud": {},
  "kernelspec": {
   "display_name": "Python [conda env:ipykernel_py2]",
   "language": "python",
   "name": "conda-env-ipykernel_py2-py"
  },
  "language_info": {
   "codemirror_mode": {
    "name": "ipython",
    "version": 2
   },
   "file_extension": ".py",
   "mimetype": "text/x-python",
   "name": "python",
   "nbconvert_exporter": "python",
   "pygments_lexer": "ipython2",
   "version": "2.7.13"
  }
 },
 "nbformat": 4,
 "nbformat_minor": 1
}
