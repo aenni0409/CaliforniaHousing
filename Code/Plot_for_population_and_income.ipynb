{
 "cells": [
  {
   "cell_type": "code",
   "execution_count": 1,
   "metadata": {
    "collapsed": false
   },
   "outputs": [
    {
     "data": {
      "text/html": [
       "<script>requirejs.config({paths: { 'plotly': ['https://cdn.plot.ly/plotly-latest.min']},});if(!window.Plotly) {{require(['plotly'],function(plotly) {window.Plotly=plotly;});}}</script>"
      ],
      "text/plain": [
       "<IPython.core.display.HTML object>"
      ]
     },
     "metadata": {},
     "output_type": "display_data"
    }
   ],
   "source": [
    "from plotly import __version__\n",
    "from plotly.offline import download_plotlyjs, init_notebook_mode, plot, iplot\n",
    "import plotly.plotly as py\n",
    "import plotly.graph_objs as go\n",
    "init_notebook_mode(connected=True)\n",
    "import numpy as np\n",
    "import pandas as pd\n",
    "import math"
   ]
  },
  {
   "cell_type": "code",
   "execution_count": 2,
   "metadata": {
    "collapsed": true
   },
   "outputs": [],
   "source": [
    "CAhouse = pd.read_csv(\"all_data.csv\")"
   ]
  },
  {
   "cell_type": "code",
   "execution_count": 3,
   "metadata": {
    "collapsed": false
   },
   "outputs": [
    {
     "data": {
      "text/html": [
       "<div>\n",
       "<table border=\"1\" class=\"dataframe\">\n",
       "  <thead>\n",
       "    <tr style=\"text-align: right;\">\n",
       "      <th></th>\n",
       "      <th>Unnamed: 0</th>\n",
       "      <th>RegionName</th>\n",
       "      <th>sold_15</th>\n",
       "      <th>sold_16</th>\n",
       "      <th>list_15</th>\n",
       "      <th>list_16</th>\n",
       "      <th>one_15</th>\n",
       "      <th>one_16</th>\n",
       "      <th>two_15</th>\n",
       "      <th>two_16</th>\n",
       "      <th>...</th>\n",
       "      <th>Highest Rank City 2016</th>\n",
       "      <th>Zip2016</th>\n",
       "      <th>Rank2015</th>\n",
       "      <th>Highest Rank City 2015</th>\n",
       "      <th>Zip2015</th>\n",
       "      <th>Number Students</th>\n",
       "      <th>Number of Ranked Elementary Schools</th>\n",
       "      <th>Number of Ranked Middle Schools</th>\n",
       "      <th>Number of Ranked High Schools</th>\n",
       "      <th>total_income</th>\n",
       "    </tr>\n",
       "  </thead>\n",
       "  <tbody>\n",
       "    <tr>\n",
       "      <th>0</th>\n",
       "      <td>0</td>\n",
       "      <td>Los Angeles</td>\n",
       "      <td>498737.500000</td>\n",
       "      <td>518508.333333</td>\n",
       "      <td>537666.666667</td>\n",
       "      <td>587328.666667</td>\n",
       "      <td>363468.333333</td>\n",
       "      <td>409424.500000</td>\n",
       "      <td>433116.583333</td>\n",
       "      <td>469545.750000</td>\n",
       "      <td>...</td>\n",
       "      <td>Acton</td>\n",
       "      <td>90017</td>\n",
       "      <td>9.0</td>\n",
       "      <td>Acton</td>\n",
       "      <td>90017</td>\n",
       "      <td>1534702.0</td>\n",
       "      <td>1275.0</td>\n",
       "      <td>502.0</td>\n",
       "      <td>469.0</td>\n",
       "      <td>3263069</td>\n",
       "    </tr>\n",
       "    <tr>\n",
       "      <th>1</th>\n",
       "      <td>1</td>\n",
       "      <td>Orange</td>\n",
       "      <td>601020.833333</td>\n",
       "      <td>623150.000000</td>\n",
       "      <td>675932.083333</td>\n",
       "      <td>705890.000000</td>\n",
       "      <td>279250.000000</td>\n",
       "      <td>303945.833333</td>\n",
       "      <td>417687.500000</td>\n",
       "      <td>441220.833333</td>\n",
       "      <td>...</td>\n",
       "      <td>Anaheim</td>\n",
       "      <td>90620</td>\n",
       "      <td>31.0</td>\n",
       "      <td>Anaheim</td>\n",
       "      <td>90620</td>\n",
       "      <td>496719.0</td>\n",
       "      <td>385.0</td>\n",
       "      <td>113.0</td>\n",
       "      <td>100.0</td>\n",
       "      <td>1009353</td>\n",
       "    </tr>\n",
       "    <tr>\n",
       "      <th>2</th>\n",
       "      <td>2</td>\n",
       "      <td>San Diego</td>\n",
       "      <td>472187.500000</td>\n",
       "      <td>489250.000000</td>\n",
       "      <td>538650.000000</td>\n",
       "      <td>575525.000000</td>\n",
       "      <td>276475.000000</td>\n",
       "      <td>319328.625000</td>\n",
       "      <td>360778.166667</td>\n",
       "      <td>396704.083333</td>\n",
       "      <td>...</td>\n",
       "      <td>Alpine</td>\n",
       "      <td>91901</td>\n",
       "      <td>10.0</td>\n",
       "      <td>Alpine</td>\n",
       "      <td>91901</td>\n",
       "      <td>502352.0</td>\n",
       "      <td>434.0</td>\n",
       "      <td>188.0</td>\n",
       "      <td>145.0</td>\n",
       "      <td>1094157</td>\n",
       "    </tr>\n",
       "    <tr>\n",
       "      <th>3</th>\n",
       "      <td>3</td>\n",
       "      <td>Riverside</td>\n",
       "      <td>309068.750000</td>\n",
       "      <td>320437.500000</td>\n",
       "      <td>344257.500000</td>\n",
       "      <td>361732.458333</td>\n",
       "      <td>145399.875000</td>\n",
       "      <td>145940.750000</td>\n",
       "      <td>227945.750000</td>\n",
       "      <td>237962.041667</td>\n",
       "      <td>...</td>\n",
       "      <td>Banning</td>\n",
       "      <td>92220</td>\n",
       "      <td>123.0</td>\n",
       "      <td>Banning</td>\n",
       "      <td>92220</td>\n",
       "      <td>425225.0</td>\n",
       "      <td>284.0</td>\n",
       "      <td>104.0</td>\n",
       "      <td>105.0</td>\n",
       "      <td>699232</td>\n",
       "    </tr>\n",
       "    <tr>\n",
       "      <th>4</th>\n",
       "      <td>4</td>\n",
       "      <td>San Bernardino</td>\n",
       "      <td>264327.083333</td>\n",
       "      <td>272666.666667</td>\n",
       "      <td>271312.500000</td>\n",
       "      <td>291733.333333</td>\n",
       "      <td>NaN</td>\n",
       "      <td>NaN</td>\n",
       "      <td>172779.083333</td>\n",
       "      <td>185468.166667</td>\n",
       "      <td>...</td>\n",
       "      <td>Adelanto</td>\n",
       "      <td>91701</td>\n",
       "      <td>115.0</td>\n",
       "      <td>Adelanto</td>\n",
       "      <td>91701</td>\n",
       "      <td>409680.0</td>\n",
       "      <td>336.0</td>\n",
       "      <td>125.0</td>\n",
       "      <td>100.0</td>\n",
       "      <td>614325</td>\n",
       "    </tr>\n",
       "  </tbody>\n",
       "</table>\n",
       "<p>5 rows × 38 columns</p>\n",
       "</div>"
      ],
      "text/plain": [
       "   Unnamed: 0      RegionName        sold_15        sold_16        list_15  \\\n",
       "0           0     Los Angeles  498737.500000  518508.333333  537666.666667   \n",
       "1           1          Orange  601020.833333  623150.000000  675932.083333   \n",
       "2           2       San Diego  472187.500000  489250.000000  538650.000000   \n",
       "3           3       Riverside  309068.750000  320437.500000  344257.500000   \n",
       "4           4  San Bernardino  264327.083333  272666.666667  271312.500000   \n",
       "\n",
       "         list_16         one_15         one_16         two_15         two_16  \\\n",
       "0  587328.666667  363468.333333  409424.500000  433116.583333  469545.750000   \n",
       "1  705890.000000  279250.000000  303945.833333  417687.500000  441220.833333   \n",
       "2  575525.000000  276475.000000  319328.625000  360778.166667  396704.083333   \n",
       "3  361732.458333  145399.875000  145940.750000  227945.750000  237962.041667   \n",
       "4  291733.333333            NaN            NaN  172779.083333  185468.166667   \n",
       "\n",
       "       ...       Highest Rank City 2016  Zip2016  Rank2015  \\\n",
       "0      ...                        Acton    90017       9.0   \n",
       "1      ...                      Anaheim    90620      31.0   \n",
       "2      ...                       Alpine    91901      10.0   \n",
       "3      ...                      Banning    92220     123.0   \n",
       "4      ...                     Adelanto    91701     115.0   \n",
       "\n",
       "   Highest Rank City 2015  Zip2015  Number Students  \\\n",
       "0                   Acton    90017        1534702.0   \n",
       "1                 Anaheim    90620         496719.0   \n",
       "2                  Alpine    91901         502352.0   \n",
       "3                 Banning    92220         425225.0   \n",
       "4                Adelanto    91701         409680.0   \n",
       "\n",
       "   Number of Ranked Elementary Schools  Number of Ranked Middle Schools  \\\n",
       "0                               1275.0                            502.0   \n",
       "1                                385.0                            113.0   \n",
       "2                                434.0                            188.0   \n",
       "3                                284.0                            104.0   \n",
       "4                                336.0                            125.0   \n",
       "\n",
       "   Number of Ranked High Schools  total_income  \n",
       "0                          469.0       3263069  \n",
       "1                          100.0       1009353  \n",
       "2                          145.0       1094157  \n",
       "3                          105.0        699232  \n",
       "4                          100.0        614325  \n",
       "\n",
       "[5 rows x 38 columns]"
      ]
     },
     "execution_count": 3,
     "metadata": {},
     "output_type": "execute_result"
    }
   ],
   "source": [
    "CAhouse.head()"
   ]
  },
  {
   "cell_type": "code",
   "execution_count": 5,
   "metadata": {
    "collapsed": false
   },
   "outputs": [
    {
     "data": {
      "text/html": [
       "<div id=\"790cd0dd-2a0e-4672-8b7e-18dc0d57c722\" style=\"height: 525px; width: 100%;\" class=\"plotly-graph-div\"></div><script type=\"text/javascript\">require([\"plotly\"], function(Plotly) { window.PLOTLYENV=window.PLOTLYENV || {};window.PLOTLYENV.BASE_URL=\"https://plot.ly\";Plotly.newPlot(\"790cd0dd-2a0e-4672-8b7e-18dc0d57c722\", [{\"text\": [\"Los Angeles\", \"Orange\", \"San Diego\", \"Riverside\", \"San Bernardino\", \"Santa Clara\", \"Alameda\", \"Sacramento\", \"Contra Costa\", \"Fresno\", \"Ventura\", \"San Francisco\", \"Kern\", \"San Mateo\", \"San Joaquin\", \"Stanislaus\", \"Sonoma\", \"Tulare\", \"Solano\", \"Monterey\", \"Santa Barbara\", \"Placer\", \"San Luis Obispo\", \"Santa Cruz\", \"Merced\", \"Marin\", \"Butte\", \"Yolo\", \"El Dorado\", \"Shasta\", \"Imperial\", \"Kings\", \"Madera\", \"Napa\", \"Humboldt\", \"Nevada\", \"Sutter\", \"Mendocino\", \"Yuba\", \"Lake\", \"Tehama\", \"Tuolumne\", \"San Benito\", \"Calaveras\", \"Siskiyou\", \"Amador\", \"Lassen\", \"Del Norte\", \"Glenn\", \"Plumas\", \"Colusa\", \"Mariposa\", \"Inyo\", \"Trinity\", \"Mono\", \"Modoc\", \"Sierra\", \"Alpine\"], \"marker\": {\"opacity\": 0.5, \"line\": {\"width\": 1}, \"size\": 10}, \"mode\": \"markers\", \"y\": [498737.5, 601020.833333, 472187.5, 309068.75, 264327.083333, 799250.0, 614795.833333, 275108.333333, 473875.0, 221333.333333, 502218.75, 1107920.8333299998, 197554.166667, 919250.0, 276945.833333, 238843.75, 475379.166667, 182336.25, 330375.0, 457554.166667, 466010.416667, 384287.5, 480470.833333, 625782.916667, 198189.583333, 858241.666667, 242745.833333, 345920.833333, 380866.666667, 222543.75, 184225.0, 184479.166667, 208508.333333, 526554.166667, 243625.0, 364007.083333, 226341.666667, 305520.833333, 220610.416667, 193558.333333, 174250.0, 210454.166667, 449687.5, 244854.166667, 144717.5, 243933.333333, 131600.0, 158729.1308, 186926.719457, 219449.42308, 170000.0, 211091.666667, 300000.0, 186246.22456300003, 314987.5, null, 150000.0, null], \"x\": [16.1349814795103, 14.969171480896186, 15.009287864386057, 14.674606828289946, 14.570755627490628, 14.466816474725476, 14.30911779241288, 14.221865270257272, 13.934843503001447, 13.790050175714192, 13.653622017964576, 13.670272046523591, 13.690146861567438, 13.547807567827805, 13.495451288658808, 13.196334768802753, 13.126646193042472, 13.038683898019324, 12.985608509246179, 12.980564762418824, 13.005310325245148, 12.835723428419877, 12.547535977316382, 12.521416090173135, 12.500438581119619, 12.473122071314982, 12.325680681526576, 12.269122559241286, 12.125144546012933, 12.098114314024373, 12.101772678403002, 11.924803300850582, 11.95116749259233, 11.86678845908115, 11.818400794343844, 11.50163193242543, 11.476914794113835, 11.381095481271178, 11.218447016051396, 11.075830361179467, 11.055766982453173, 10.891335864219382, 10.981761070208707, 10.710588223171918, 10.681756826512895, 10.518700218288165, 10.352810043708068, 10.212955578309765, 10.240566747777828, 9.820594954446562, 9.974970654157993, 9.771726021353874, 9.81246815414896, 9.477998292597036, 9.54029139160713, 9.101083386039234, 7.995306620290822, 7.01211529430638], \"type\": \"scatter\"}], {\"showlegend\": false, \"title\": \"Population vs Sold Price in 2015\", \"hovermode\": \"closest\", \"xaxis\": {\"zeroline\": false, \"ticklen\": 5, \"gridwidth\": 2, \"title\": \"Sold Price in 2015\"}, \"yaxis\": {\"ticklen\": 5, \"gridwidth\": 2, \"title\": \"Popultation After Log Transformation\"}}, {\"linkText\": \"Export to plot.ly\", \"showLink\": true})});</script>"
      ],
      "text/plain": [
       "<IPython.core.display.HTML object>"
      ]
     },
     "metadata": {},
     "output_type": "display_data"
    }
   ],
   "source": [
    "trace = go.Scatter(\n",
    "    x = CAhouse[\"Population\"].apply(lambda x:math.log(x)),\n",
    "    y = CAhouse[\"sold_15\"],\n",
    "    mode = 'markers',\n",
    "    marker= dict(size= 10,\n",
    "                line= dict(width=1),\n",
    "                opacity= 0.5\n",
    "               ),\n",
    "    text= CAhouse[\"RegionName\"]\n",
    ")\n",
    "\n",
    "layout= go.Layout(\n",
    "    title= 'Population vs Sold Price in 2015',\n",
    "    hovermode= 'closest',\n",
    "    xaxis= dict(\n",
    "        title= 'Sold Price in 2015',\n",
    "        ticklen= 5,\n",
    "        zeroline= False,\n",
    "        gridwidth= 2,\n",
    "    ),\n",
    "    yaxis=dict(\n",
    "        title= 'Popultation After Log Transformation',\n",
    "        ticklen= 5,\n",
    "        gridwidth= 2,\n",
    "    ),\n",
    "    showlegend= False\n",
    ")\n",
    "\n",
    "data = [trace]\n",
    "fig= go.Figure(data=data, layout=layout)\n",
    "iplot(fig)\n"
   ]
  },
  {
   "cell_type": "code",
   "execution_count": 6,
   "metadata": {
    "collapsed": false
   },
   "outputs": [
    {
     "data": {
      "text/html": [
       "<div id=\"a1a8aa97-0c54-4b67-ab91-a4378952bdaa\" style=\"height: 525px; width: 100%;\" class=\"plotly-graph-div\"></div><script type=\"text/javascript\">require([\"plotly\"], function(Plotly) { window.PLOTLYENV=window.PLOTLYENV || {};window.PLOTLYENV.BASE_URL=\"https://plot.ly\";Plotly.newPlot(\"a1a8aa97-0c54-4b67-ab91-a4378952bdaa\", [{\"text\": [\"Los Angeles\", \"Orange\", \"San Diego\", \"Riverside\", \"San Bernardino\", \"Santa Clara\", \"Alameda\", \"Sacramento\", \"Contra Costa\", \"Fresno\", \"Ventura\", \"San Francisco\", \"Kern\", \"San Mateo\", \"San Joaquin\", \"Stanislaus\", \"Sonoma\", \"Tulare\", \"Solano\", \"Monterey\", \"Santa Barbara\", \"Placer\", \"San Luis Obispo\", \"Santa Cruz\", \"Merced\", \"Marin\", \"Butte\", \"Yolo\", \"El Dorado\", \"Shasta\", \"Imperial\", \"Kings\", \"Madera\", \"Napa\", \"Humboldt\", \"Nevada\", \"Sutter\", \"Mendocino\", \"Yuba\", \"Lake\", \"Tehama\", \"Tuolumne\", \"San Benito\", \"Calaveras\", \"Siskiyou\", \"Amador\", \"Lassen\", \"Del Norte\", \"Glenn\", \"Plumas\", \"Colusa\", \"Mariposa\", \"Inyo\", \"Trinity\", \"Mono\", \"Modoc\", \"Sierra\", \"Alpine\"], \"marker\": {\"opacity\": 0.5, \"line\": {\"width\": 1}, \"size\": 10}, \"mode\": \"markers\", \"y\": [498737.5, 601020.833333, 472187.5, 309068.75, 264327.083333, 799250.0, 614795.833333, 275108.333333, 473875.0, 221333.333333, 502218.75, 1107920.8333299998, 197554.166667, 919250.0, 276945.833333, 238843.75, 475379.166667, 182336.25, 330375.0, 457554.166667, 466010.416667, 384287.5, 480470.833333, 625782.916667, 198189.583333, 858241.666667, 242745.833333, 345920.833333, 380866.666667, 222543.75, 184225.0, 184479.166667, 208508.333333, 526554.166667, 243625.0, 364007.083333, 226341.666667, 305520.833333, 220610.416667, 193558.333333, 174250.0, 210454.166667, 449687.5, 244854.166667, 144717.5, 243933.333333, 131600.0, 158729.1308, 186926.719457, 219449.42308, 170000.0, 211091.666667, 300000.0, 186246.22456300003, 314987.5, null, 150000.0, null], \"x\": [0.3208431970291512, 0.3184303875100323, 0.33161086109165544, 0.29615599319956665, 0.28866851836797797, 0.32400872972674244, 0.34116828377227654, 0.3480875354268035, 0.34137804028418145, 0.3039458958764378, 0.316234703763274, 0.40851117463136666, 0.2943857008125363, 0.33943160357322566, 0.30170939229258537, 0.31426406234908655, 0.3739589681088767, 0.2904560706123345, 0.3293158324390266, 0.28901262508700204, 0.3208699347301633, 0.36083976440564636, 0.36807260812861364, 0.3458084378396913, 0.2894041831964389, 0.39686702064535395, 0.37849971829236373, 0.3379886956848312, 0.36370437837486175, 0.3864192098388597, 0.25779311952317263, 0.2752558540058954, 0.2784487541774733, 0.347433593530634, 0.3907549713763658, 0.41458579851734984, 0.3308729772036947, 0.3881048272085249, 0.3374724802663373, 0.41790651948413865, 0.3744234535919631, 0.4120910834310823, 0.29252279221662814, 0.4028732042473454, 0.4392937502870001, 0.37634117996810895, 0.3096825650023927, 0.3456373376385118, 0.338972766534604, 0.44635775979140635, 0.324271483102132, 0.41897210655410416, 0.43576122672508216, 0.41961894559644963, 0.3527212596160759, 0.4177356385945343, 0.42197505898213683, 0.3225225225225225], \"type\": \"scatter\"}], {\"showlegend\": false, \"title\": \"Income vs Sold Price in 2015\", \"hovermode\": \"closest\", \"xaxis\": {\"ticklen\": 5, \"gridwidth\": 2, \"title\": \"Income Per Person\"}, \"yaxis\": {\"zeroline\": false, \"ticklen\": 5, \"gridwidth\": 2, \"title\": \"Sold Price in 2015\"}}, {\"linkText\": \"Export to plot.ly\", \"showLink\": true})});</script>"
      ],
      "text/plain": [
       "<IPython.core.display.HTML object>"
      ]
     },
     "metadata": {},
     "output_type": "display_data"
    }
   ],
   "source": [
    "trace = go.Scatter(\n",
    "    x = CAhouse[\"total_income\"]/CAhouse[\"Population\"],\n",
    "    y = CAhouse[\"sold_15\"],\n",
    "    mode = 'markers',\n",
    "    marker= dict(size= 10,\n",
    "                line= dict(width=1),\n",
    "                opacity= 0.5\n",
    "               ),\n",
    "    text= CAhouse[\"RegionName\"]\n",
    ")\n",
    "\n",
    "layout= go.Layout(\n",
    "    title= 'Income vs Sold Price in 2015',\n",
    "    hovermode= 'closest',\n",
    "    yaxis= dict(\n",
    "        title= 'Sold Price in 2015',\n",
    "        ticklen= 5,\n",
    "        zeroline= False,\n",
    "        gridwidth= 2,\n",
    "    ),\n",
    "    xaxis=dict(\n",
    "        title= 'Income Per Person',\n",
    "        ticklen= 5,\n",
    "        gridwidth= 2,\n",
    "    ),\n",
    "    showlegend= False\n",
    ")\n",
    "\n",
    "data = [trace]\n",
    "fig= go.Figure(data=data, layout=layout)\n",
    "iplot(fig)\n"
   ]
  },
  {
   "cell_type": "code",
   "execution_count": 9,
   "metadata": {
    "collapsed": false
   },
   "outputs": [
    {
     "data": {
      "text/html": [
       "<div id=\"29abcb09-a4c6-46bc-ad76-153f8beb412a\" style=\"height: 525px; width: 100%;\" class=\"plotly-graph-div\"></div><script type=\"text/javascript\">require([\"plotly\"], function(Plotly) { window.PLOTLYENV=window.PLOTLYENV || {};window.PLOTLYENV.BASE_URL=\"https://plot.ly\";Plotly.newPlot(\"29abcb09-a4c6-46bc-ad76-153f8beb412a\", [{\"text\": [\"Los Angeles\", \"Orange\", \"San Diego\", \"Riverside\", \"San Bernardino\", \"Santa Clara\", \"Alameda\", \"Sacramento\", \"Contra Costa\", \"Fresno\", \"Ventura\", \"San Francisco\", \"Kern\", \"San Mateo\", \"San Joaquin\", \"Stanislaus\", \"Sonoma\", \"Tulare\", \"Solano\", \"Monterey\", \"Santa Barbara\", \"Placer\", \"San Luis Obispo\", \"Santa Cruz\", \"Merced\", \"Marin\", \"Butte\", \"Yolo\", \"El Dorado\", \"Shasta\", \"Imperial\", \"Kings\", \"Madera\", \"Napa\", \"Humboldt\", \"Nevada\", \"Sutter\", \"Mendocino\", \"Yuba\", \"Lake\", \"Tehama\", \"Tuolumne\", \"San Benito\", \"Calaveras\", \"Siskiyou\", \"Amador\", \"Lassen\", \"Del Norte\", \"Glenn\", \"Plumas\", \"Colusa\", \"Mariposa\", \"Inyo\", \"Trinity\", \"Mono\", \"Modoc\", \"Sierra\", \"Alpine\"], \"marker\": {\"opacity\": 0.5, \"line\": {\"width\": 1}, \"size\": 10}, \"mode\": \"markers\", \"y\": [498737.5, 601020.833333, 472187.5, 309068.75, 264327.083333, 799250.0, 614795.833333, 275108.333333, 473875.0, 221333.333333, 502218.75, 1107920.8333299998, 197554.166667, 919250.0, 276945.833333, 238843.75, 475379.166667, 182336.25, 330375.0, 457554.166667, 466010.416667, 384287.5, 480470.833333, 625782.916667, 198189.583333, 858241.666667, 242745.833333, 345920.833333, 380866.666667, 222543.75, 184225.0, 184479.166667, 208508.333333, 526554.166667, 243625.0, 364007.083333, 226341.666667, 305520.833333, 220610.416667, 193558.333333, 174250.0, 210454.166667, 449687.5, 244854.166667, 144717.5, 243933.333333, 131600.0, 158729.1308, 186926.719457, 219449.42308, 170000.0, 211091.666667, 300000.0, 186246.22456300003, 314987.5, null, 150000.0, null], \"x\": [5.7, 4.1, 4.8, 6.0, 5.7, 3.8, 4.3, 5.5, 4.5, 10.2, 5.5, 3.3, 10.4, 3.0, 8.7, 9.1, 4.2, 12.2, 5.6, 10.5, 5.6, 4.6, 4.5, 8.3, 11.8, 3.2, 6.9, 6.5, 5.3, 7.5, 21.5, 10.7, 10.5, 5.1, 5.5, 5.1, 11.2, 6.1, 9.2, 7.8, 7.7, 6.9, 7.5, 6.2, 10.6, 6.3, 7.4, 8.8, 8.9, 12.4, 19.4, 8.1, 5.8, 8.0, 5.4, 9.4, 9.0, 5.9], \"type\": \"scatter\"}], {\"showlegend\": false, \"title\": \"Unemployment Rate vs Sold Price in 2015\", \"hovermode\": \"closest\", \"xaxis\": {\"ticklen\": 5, \"gridwidth\": 2, \"title\": \"Unemploymet Rate (%)\"}, \"yaxis\": {\"zeroline\": false, \"ticklen\": 5, \"gridwidth\": 2, \"title\": \"Sold Price in 2015\"}}, {\"linkText\": \"Export to plot.ly\", \"showLink\": true})});</script>"
      ],
      "text/plain": [
       "<IPython.core.display.HTML object>"
      ]
     },
     "metadata": {},
     "output_type": "display_data"
    }
   ],
   "source": [
    "trace = go.Scatter(\n",
    "    x = CAhouse[\"Unemploy_Rate\"],\n",
    "    y = CAhouse[\"sold_15\"],\n",
    "    mode = 'markers',\n",
    "    marker= dict(size= 10,\n",
    "                line= dict(width=1),\n",
    "                opacity= 0.5\n",
    "               ),\n",
    "    text= CAhouse[\"RegionName\"]\n",
    ")\n",
    "\n",
    "layout= go.Layout(\n",
    "    title= 'Unemployment Rate vs Sold Price in 2015',\n",
    "    hovermode= 'closest',\n",
    "    yaxis= dict(\n",
    "        title= 'Sold Price in 2015',\n",
    "        ticklen= 5,\n",
    "        zeroline= False,\n",
    "        gridwidth= 2,\n",
    "    ),\n",
    "    xaxis=dict(\n",
    "        title= 'Unemploymet Rate (%)',\n",
    "        ticklen= 5,\n",
    "        gridwidth= 2,\n",
    "    ),\n",
    "    showlegend= False\n",
    ")\n",
    "\n",
    "\n",
    "data = [trace]\n",
    "fig= go.Figure(data=data, layout=layout)\n",
    "iplot(fig)\n"
   ]
  },
  {
   "cell_type": "code",
   "execution_count": null,
   "metadata": {
    "collapsed": true
   },
   "outputs": [],
   "source": []
  }
 ],
 "metadata": {
  "anaconda-cloud": {},
  "kernelspec": {
   "display_name": "Python [default]",
   "language": "python",
   "name": "python2"
  },
  "language_info": {
   "codemirror_mode": {
    "name": "ipython",
    "version": 2
   },
   "file_extension": ".py",
   "mimetype": "text/x-python",
   "name": "python",
   "nbconvert_exporter": "python",
   "pygments_lexer": "ipython2",
   "version": "2.7.12"
  }
 },
 "nbformat": 4,
 "nbformat_minor": 1
}
