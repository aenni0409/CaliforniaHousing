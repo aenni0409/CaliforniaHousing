{
 "cells": [
  {
   "cell_type": "code",
   "execution_count": 1,
   "metadata": {
    "collapsed": false
   },
   "outputs": [],
   "source": [
    "import pandas as pd\n",
    "import numpy as np\n",
    "import os.path\n",
    "#path = \"C:/Users/Xin~/Documents/CaliforniaHousing\"\n",
    "#alldata = pd.read_csv(path+\"/all_data.csv\",header=0)\n",
    "# crime rate data in 2015\n",
    "#ft1 = pd.read_csv(\"crime.csv\")"
   ]
  },
  {
   "cell_type": "code",
   "execution_count": 2,
   "metadata": {
    "collapsed": false
   },
   "outputs": [],
   "source": [
    "#alldata = pd.merge(ft1,alldata,on=\"RegionName\",how = \"outer\")"
   ]
  },
  {
   "cell_type": "code",
   "execution_count": 5,
   "metadata": {
    "collapsed": false
   },
   "outputs": [],
   "source": [
    "#alldata.keys()\n",
    "#alldata.to_csv(\"all_data_crimerate.csv\")\n",
    "alldata = pd.read_csv(\"../Data/all_data_crimerate.csv\")"
   ]
  },
  {
   "cell_type": "code",
   "execution_count": 6,
   "metadata": {
    "collapsed": false
   },
   "outputs": [
    {
     "data": {
      "image/png": "[encoded data removed]",
      "text/plain": [
       "<matplotlib.figure.Figure at 0x884c048>"
      ]
     },
     "metadata": {},
     "output_type": "display_data"
    }
   ],
   "source": [
    "# plot\n",
    "import matplotlib.pyplot as plt\n",
    "\n",
    "fig, ax = plt.subplots(1, 1)\n",
    "# made log transformation. There seems to be a outlier\n",
    "plt.plot(np.log(alldata[\"sold_15\"]), np.log(alldata[\"crime_rate\"]),\"o\")\n",
    "ax.set(xlabel=\"sold_15\" , ylabel = \"crime_rate\")\n",
    "plt.show()"
   ]
  },
  {
   "cell_type": "code",
   "execution_count": null,
   "metadata": {
    "collapsed": false
   },
   "outputs": [],
   "source": [
    "np.where(alldata.sold_15==alldata.sold_15.max())\n",
    "#alldate.sold_15.max()"
   ]
  },
  {
   "cell_type": "code",
   "execution_count": null,
   "metadata": {
    "collapsed": false
   },
   "outputs": [],
   "source": [
    "alldata.ix[11,\"RegionName\"]\n",
    "# San Francisco is the outlier. "
   ]
  },
  {
   "cell_type": "code",
   "execution_count": null,
   "metadata": {
    "collapsed": false
   },
   "outputs": [],
   "source": [
    "alldata.ix[11,\"sold_15\"]\n",
    "# its hosing price is extremely large"
   ]
  },
  {
   "cell_type": "code",
   "execution_count": 5,
   "metadata": {
    "collapsed": false
   },
   "outputs": [
    {
     "data": {
      "text/plain": [
       "Index([u'Unnamed: 0', u'Unnamed: 0_x', u'RegionName', u'CrimeCases_x',\n",
       "       u'Unnamed: 0.1', u'Population_x', u'StateCode', u'crime_rate',\n",
       "       u'Unnamed: 0_y', u'sold_15', u'sold_16', u'list_15', u'list_16',\n",
       "       u'one_15', u'one_16', u'two_15', u'two_16', u'thre_15', u'thre_16',\n",
       "       u'four_15', u'four_16', u'five_15', u'five_16', u'cond_15', u'cond_16',\n",
       "       u'trip_15', u'trip_16', u'sfr_15', u'sfr_16', u'Unemploy_Rate',\n",
       "       u'Population_y', u'CrimeCases_y', u'Score2016', u'Score2015',\n",
       "       u'Rank2016', u'Highest Rank City 2016', u'Zip2016', u'Rank2015',\n",
       "       u'Highest Rank City 2015', u'Zip2015', u'Number Students',\n",
       "       u'Number of Ranked Elementary Schools',\n",
       "       u'Number of Ranked Middle Schools', u'Number of Ranked High Schools',\n",
       "       u'total_income'],\n",
       "      dtype='object')"
      ]
     },
     "execution_count": 5,
     "metadata": {},
     "output_type": "execute_result"
    }
   ],
   "source": [
    "alldata.keys()"
   ]
  },
  {
   "cell_type": "code",
   "execution_count": 7,
   "metadata": {
    "collapsed": false
   },
   "outputs": [
    {
     "name": "stdout",
     "output_type": "stream",
     "text": [
      "269717.708333 131600.0 1107920.83333\n"
     ]
    }
   ],
   "source": [
    "#med = np.nanmedian(alldata[\"sold_15\"]) # calculating median while ignoring nans\n",
    "#mins = np.min(alldata[\"sold_15\"])\n",
    "#maxs = np.max(alldata[\"sold_15\"])\n",
    "#print med, mins, maxs"
   ]
  },
  {
   "cell_type": "code",
   "execution_count": 7,
   "metadata": {
    "collapsed": false
   },
   "outputs": [
    {
     "name": "stdout",
     "output_type": "stream",
     "text": [
      "182321.5 47048.25 679176.5\n"
     ]
    }
   ],
   "source": [
    "##############\n",
    "###############\n",
    "# use population density dataset\n",
    "\n",
    "med = np.nanmedian(alldata[\"Population_x\"]) # calculating median while ignoring nans\n",
    "p25 = np.percentile(alldata[\"Population_x\"],25)\n",
    "p75 = np.percentile(alldata[\"Population_x\"],75)\n",
    "print med, p25, p75"
   ]
  },
  {
   "cell_type": "code",
   "execution_count": 8,
   "metadata": {
    "collapsed": false
   },
   "outputs": [],
   "source": [
    "# Divide housing price into 3 groups : 0->low. 1->median. 2->high\n",
    "#highprice = np.where(alldata[\"Population_x\"]>med)\n",
    "#lowprice = np.where(alldata[\"Population_x\"]<=med)\n",
    "highpopu = np.where(alldata[\"Population_x\"]>p75)\n",
    "lowpopu = np.where(alldata[\"Population_x\"]<p25)"
   ]
  },
  {
   "cell_type": "code",
   "execution_count": 9,
   "metadata": {
    "collapsed": false
   },
   "outputs": [
    {
     "name": "stderr",
     "output_type": "stream",
     "text": [
      "C:\\Users\\Xin~\\Anaconda3\\envs\\ipykernel_py2\\lib\\site-packages\\pandas\\core\\indexing.py:141: SettingWithCopyWarning: \n",
      "A value is trying to be set on a copy of a slice from a DataFrame\n",
      "\n",
      "See the caveats in the documentation: http://pandas.pydata.org/pandas-docs/stable/indexing.html#indexing-view-versus-copy\n",
      "  self._setitem_with_indexer(indexer, value)\n"
     ]
    }
   ],
   "source": [
    "#alldata[\"idprice\"] = [\"low\"]*alldata.shape[0]\n",
    "#alldata[\"idprice\"].ix[highprice[0]] = [\"high\"]*len(highprice[0])\n",
    "alldata[\"idpopu\"] = [\"med\"]*alldata.shape[0]\n",
    "alldata[\"idpopu\"].ix[highpopu[0]] = [\"high\"]*len(highpopu[0])"
   ]
  },
  {
   "cell_type": "code",
   "execution_count": 10,
   "metadata": {
    "collapsed": false
   },
   "outputs": [],
   "source": [
    "#alldate[\"idprice\"].ix[lowprice[0]] = [\"low\"]*len(lowprice[0])\n",
    "alldata[\"idpopu\"].ix[lowpopu[0]] = [\"low\"]*len(lowpopu[0])"
   ]
  },
  {
   "cell_type": "code",
   "execution_count": 10,
   "metadata": {
    "collapsed": false
   },
   "outputs": [
    {
     "data": {
      "image/png": "[encoded data removed]",
      "text/plain": [
       "<matplotlib.figure.Figure at 0x8df0208>"
      ]
     },
     "metadata": {},
     "output_type": "display_data"
    }
   ],
   "source": [
    "fig, ax = plt.subplots(1, 1)\n",
    "\n",
    "def scatter(group):\n",
    "    plt.plot(np.log(group[\"sold_15\"]), np.log(group[\"crime_rate\"]), \"o\",label=group.name)\n",
    "    \n",
    "alldata.groupby(\"idpopu\").apply(scatter)\n",
    "ax.set(xlabel = \"sold_15\", ylabel = \"crime_rate\")\n",
    "ax.legend(loc = 0)\n",
    "\n",
    "plt.show()"
   ]
  },
  {
   "cell_type": "code",
   "execution_count": 11,
   "metadata": {
    "collapsed": false
   },
   "outputs": [],
   "source": [
    "# draw a dynamic plot of the plot above\n",
    "import plotly.plotly as py\n",
    "import plotly.graph_objs as go\n",
    "import plotly.tools as tls\n",
    "tls.set_credentials_file(username='63xinxin', api_key='mDtzarbNAj4XSeno8Bu2')\n",
    "import numpy as np"
   ]
  },
  {
   "cell_type": "code",
   "execution_count": 27,
   "metadata": {
    "collapsed": false
   },
   "outputs": [
    {
     "data": {
      "text/html": [
       "<iframe id=\"igraph\" scrolling=\"no\" style=\"border:none;\" seamless=\"seamless\" src=\"https://plot.ly/~63xinxin/4.embed\" height=\"525px\" width=\"100%\"></iframe>"
      ],
      "text/plain": [
       "<plotly.tools.PlotlyDisplay object>"
      ]
     },
     "execution_count": 27,
     "metadata": {},
     "output_type": "execute_result"
    }
   ],
   "source": [
    "# plot of price vs crime_rate. \n",
    "# the reason I got a scatter plot with lines is because I misspelled markers as makers\n",
    "trace0 = go.Scatter(  #low\n",
    "    x = np.log(alldata[\"sold_15\"].ix[lowpopu[0]]),\n",
    "    y = np.log(alldata[\"crime_rate\"].ix[lowpopu[0]]),\n",
    "    name = \"Low\",\n",
    "    mode = \"markers\",\n",
    "    text = alldata.loc[alldata[\"idpopu\"]==\"low\"][\"RegionName\"],\n",
    "    marker = dict(\n",
    "        sizemode='diameter',\n",
    "        sizeref=0.3,\n",
    "        size = np.log(alldata.loc[alldata[\"idpopu\"]==\"low\"][\"Population_x\"]),\n",
    "        \n",
    "    )\n",
    ")\n",
    "\n",
    "trace1 = go.Scatter(  #med\n",
    "    x = np.log(alldata.loc[alldata[\"idpopu\"]==\"med\"][\"sold_15\"]),\n",
    "    y = np.log(alldata.loc[alldata[\"idpopu\"]==\"med\"][\"crime_rate\"]),\n",
    "    name = \"Med\",\n",
    "    mode = \"markers\",\n",
    "    text = alldata.loc[alldata[\"idpopu\"]==\"med\"][\"RegionName\"],\n",
    "    marker = dict(\n",
    "        sizemode='diameter',\n",
    "        sizeref=0.3,\n",
    "        size = np.log(alldata.loc[alldata[\"idpopu\"]==\"med\"][\"Population_x\"]),\n",
    "        #color = 'green',\n",
    "        \n",
    "    )\n",
    ")\n",
    "\n",
    "trace2 = go.Scatter(  #high\n",
    "    x = np.log(alldata[\"sold_15\"].ix[highpopu[0]]),\n",
    "    y = np.log(alldata[\"crime_rate\"].ix[highpopu[0]]),\n",
    "    name = \"High\",\n",
    "    mode = \"markers\",\n",
    "    text = alldata.loc[alldata[\"idpopu\"]==\"high\"][\"RegionName\"],\n",
    "    marker = dict(\n",
    "        sizemode='diameter',\n",
    "        sizeref=0.3,\n",
    "        size = np.log(alldata.loc[alldata[\"idpopu\"]==\"high\"][\"Population_x\"]),\n",
    "        \n",
    "    )\n",
    ")\n",
    "\n",
    "\n",
    "\n",
    "data = [trace0, trace1, trace2]\n",
    "\n",
    "layout = dict(title = 'Housing Price vs Criminal Rate in 2015',\n",
    "              yaxis = dict(zeroline = False, title=\"Log of Criminal Rate\"),\n",
    "              xaxis = dict(zeroline = False, title=\"Log of Price\"),\n",
    "              paper_bgcolor='rgb(243, 243, 243)',\n",
    "              plot_bgcolor='rgb(243, 243, 243)',\n",
    "                \n",
    "             )\n",
    "\n",
    "\n",
    "fig = go.Figure(data=data, layout=layout)\n",
    "py.iplot(fig, filename='Housing-Price-vs-Criminal-Rate-in-2015')\n"
   ]
  },
  {
   "cell_type": "markdown",
   "metadata": {},
   "source": [
    "<p> From this plot we can find out that there is negative relationship between housing price and criminal rate. The larger the price, the smaller the criminal rate. Even though there is overlap between counties of high population and counties of low population, regions with small population tends to have higher criminal rate. This is a very interesting result. Because, most of the time we will think that if there are more people, there tends to be have larger criminal rate. Also, counties with larger population tend to have higher housing price which is reasonable. </p>"
   ]
  },
  {
   "cell_type": "code",
   "execution_count": null,
   "metadata": {
    "collapsed": true
   },
   "outputs": [],
   "source": [
    "# plots of relationship between housing price and criminal rate from 2005-2015. The size of the points are the size of population"
   ]
  },
  {
   "cell_type": "code",
   "execution_count": 14,
   "metadata": {
    "collapsed": false
   },
   "outputs": [],
   "source": [
    "# total population from 2000-2015\n",
    "popu_t = pd.read_csv(\"../Data/CA_population.csv\")\n",
    "popu_t = popu_t.iloc[5:]"
   ]
  },
  {
   "cell_type": "code",
   "execution_count": 15,
   "metadata": {
    "collapsed": false
   },
   "outputs": [],
   "source": [
    "all_crime = pd.read_csv(\"../Data/crime05-15.csv\")\n",
    "# get the summation of column\n",
    "# transfer to array\n",
    "all_crime = all_crime.as_matrix()\n",
    "# transpose\n",
    "all_crime = np.mean(all_crime[:,2:],axis=0)"
   ]
  },
  {
   "cell_type": "code",
   "execution_count": 16,
   "metadata": {
    "collapsed": false
   },
   "outputs": [],
   "source": [
    "# There is no population data in 2011 and 2012. So delete the corresponding crimecases\n",
    "# is there a easier way to select some values in array?????????????\n",
    "popu_t[\"CrimeCases\"] = all_crime[np.array([0,1,2,3,4,5,6,9,10])]"
   ]
  },
  {
   "cell_type": "code",
   "execution_count": 136,
   "metadata": {
    "collapsed": false
   },
   "outputs": [],
   "source": [
    "# add housing price\n",
    "#import re\n",
    "sold_y = pd.read_csv(\"../Data/CA_sold_t.csv\")\n",
    "#popu_t[\"sold_15\"] = []"
   ]
  },
  {
   "cell_type": "code",
   "execution_count": 138,
   "metadata": {
    "collapsed": false
   },
   "outputs": [],
   "source": [
    "import re\n",
    "sold_y[\"Year\"] = [re.search(\"([0-9]{4}).*\",year).group(1) for year in sold_y[\"date\"]]\n",
    "group_year = sold_y.groupby(\"Year\").mean().reset_index()  # after grouping by dataframe, use reset_index to let year to be one of the variable instead of group index.\n",
    "group_year.index = group_year[\"Year\"]\n",
    "group_year = group_year.iloc[:,1:]\n",
    "price = pd.DataFrame()\n",
    "price[\"Price\"] = group_year.mean(axis=1)\n",
    "price[\"Year\"] = group_year.mean(axis=1).index"
   ]
  },
  {
   "cell_type": "code",
   "execution_count": 140,
   "metadata": {
    "collapsed": false
   },
   "outputs": [],
   "source": [
    "# change object into numeric format\n",
    "price[\"Year\"] = price[\"Year\"].apply(pd.to_numeric)"
   ]
  },
  {
   "cell_type": "code",
   "execution_count": 149,
   "metadata": {
    "collapsed": false
   },
   "outputs": [],
   "source": [
    "grouped = pd.merge(popu_t,price,on=\"Year\",how=\"inner\")\n",
    "grouped[\"CriminalRate\"] = grouped.CrimeCases/grouped.Population\n",
    "grouped = grouped.iloc[:,1:]\n",
    "grouped[\"CriminalRate\"] = grouped[\"CriminalRate\"].apply(pd.to_numeric)"
   ]
  },
  {
   "cell_type": "code",
   "execution_count": 166,
   "metadata": {
    "collapsed": false
   },
   "outputs": [
    {
     "data": {
      "text/plain": [
       "0    3.890681\n",
       "1    4.149781\n",
       "2    4.063002\n",
       "3    3.564155\n",
       "4    2.963238\n",
       "5    2.737566\n",
       "6    2.995373\n",
       "7    3.283453\n",
       "8    3.495982\n",
       "Name: Price, dtype: float64"
      ]
     },
     "execution_count": 166,
     "metadata": {},
     "output_type": "execute_result"
    }
   ],
   "source": [
    "grouped[\"Price\"]/100000"
   ]
  },
  {
   "cell_type": "code",
   "execution_count": 173,
   "metadata": {
    "collapsed": false
   },
   "outputs": [
    {
     "data": {
      "text/html": [
       "<iframe id=\"igraph\" scrolling=\"no\" style=\"border:none;\" seamless=\"seamless\" src=\"https://plot.ly/~63xinxin/32.embed\" height=\"525px\" width=\"100%\"></iframe>"
      ],
      "text/plain": [
       "<plotly.tools.PlotlyDisplay object>"
      ]
     },
     "execution_count": 173,
     "metadata": {},
     "output_type": "execute_result"
    }
   ],
   "source": [
    "data = [go.Scatter(x = grouped[\"Year\"], \n",
    "                   y = np.log(grouped[\"CriminalRate\"]), \n",
    "                  mode = \"markers+lines\",\n",
    "                  marker = dict(\n",
    "                    sizemode='diameter',\n",
    "                    sizeref=0.09,\n",
    "                    size = grouped[\"Price\"]/100000),\n",
    "                  text = grouped[\"Price\"]/100000)]\n",
    "layout = dict(title = 'Criminal Rate from 2005 to 2015',\n",
    "              yaxis = dict(zeroline = False, title=\"Log of Criminal Rate\"),\n",
    "              xaxis = dict(zeroline = False, title=\"Year\"),\n",
    "              paper_bgcolor='rgb(243, 243, 243)',\n",
    "              plot_bgcolor='rgb(243, 243, 243)',\n",
    "                \n",
    "             )\n",
    "fig = go.Figure(data=data,layout = layout)\n",
    "py.iplot(fig)"
   ]
  },
  {
   "cell_type": "code",
   "execution_count": 118,
   "metadata": {
    "collapsed": false
   },
   "outputs": [],
   "source": [
    "#import cufflinks as cf\n",
    "#cf.set_config_file(offline=False, world_readable=True, theme='ggplot')\n",
    "#grouped.iplot(kind='scatter', xTitle='Year',yTitle='Criminal Rate', title='Time-Series 2005-2015 Criminal Rate for County',filename='index-as-date')"
   ]
  },
  {
   "cell_type": "code",
   "execution_count": 80,
   "metadata": {
    "collapsed": false
   },
   "outputs": [],
   "source": [
    "#def year_scatter(county):\n",
    "#    crimerate = go.Scatter(\n",
    "#    x = grouped.Year,\n",
    "#    y = grouped[county],\n",
    "#    name = county,\n",
    "#    mode = \"lines\")\n",
    "#    return crimerate"
   ]
  },
  {
   "cell_type": "code",
   "execution_count": 81,
   "metadata": {
    "collapsed": true
   },
   "outputs": [],
   "source": [
    "#data = [year_scatter(county) for county in grouped.keys()[5:63]]"
   ]
  },
  {
   "cell_type": "code",
   "execution_count": 82,
   "metadata": {
    "collapsed": false
   },
   "outputs": [
    {
     "data": {
      "text/html": [
       "<iframe id=\"igraph\" scrolling=\"no\" style=\"border:none;\" seamless=\"seamless\" src=\"https://plot.ly/~63xinxin/8.embed\" height=\"525px\" width=\"100%\"></iframe>"
      ],
      "text/plain": [
       "<plotly.tools.PlotlyDisplay object>"
      ]
     },
     "execution_count": 82,
     "metadata": {},
     "output_type": "execute_result"
    }
   ],
   "source": [
    "#layout = go.Layout(\n",
    "#    title='Criminal Rate from 2005 to 2015 in Califorina',\n",
    "#    xaxis=dict(\n",
    "#        title='Year',\n",
    "#        zeroline = False\n",
    "#    ),\n",
    "#    yaxis=dict(\n",
    "#        title='Criminal Rate',\n",
    "#        zeroline = False\n",
    "#    ),\n",
    "#)\n",
    "\n",
    "#fig = go.Figure(data=data, layout=layout)\n",
    "#py.iplot(fig)"
   ]
  },
  {
   "cell_type": "code",
   "execution_count": null,
   "metadata": {
    "collapsed": true
   },
   "outputs": [],
   "source": []
  }
 ],
 "metadata": {
  "anaconda-cloud": {},
  "kernelspec": {
   "display_name": "Python 2",
   "language": "python",
   "name": "python2"
  },
  "language_info": {
   "codemirror_mode": {
    "name": "ipython",
    "version": 2
   },
   "file_extension": ".py",
   "mimetype": "text/x-python",
   "name": "python",
   "nbconvert_exporter": "python",
   "pygments_lexer": "ipython2",
   "version": "2.7.12"
  }
 },
 "nbformat": 4,
 "nbformat_minor": 1
}
