{
 "cells": [
  {
   "cell_type": "code",
   "execution_count": 3,
   "metadata": {
    "collapsed": true
   },
   "outputs": [],
   "source": [
    "import requests\n",
    "import requests_cache\n",
    "from matplotlib import pyplot as plt\n",
    "import lxml.html\n",
    "import pandas as pd\n",
    "import re\n",
    "import json \n",
    "import lxml.html as lx\n",
    "import urllib\n",
    "from urllib2 import Request, urlopen, HTTPError\n",
    "from urlparse import urlunparse, urlparse, urljoin\n",
    "import numpy"
   ]
  },
  {
   "cell_type": "code",
   "execution_count": 16,
   "metadata": {
    "collapsed": false
   },
   "outputs": [],
   "source": [
    "def fetch_page(url):\n",
    "    response = requests.get(url)\n",
    "    # Throw an error if status isn't 200 OK.\n",
    "    response.raise_for_status()\n",
    "    return response\n",
    "\n",
    "url=\"https://www.zillow.com/browse/homes/ca/\"\n",
    "requests_cache.install_cache(\"cache\")\n",
    "page = fetch_page(url)\n",
    "html = lx.fromstring(page.text)\n",
    "county_html = html.xpath('//main/div/div/ul/li/a')\n",
    "county = [i.text_content() for i in county_html]\n",
    "county_name = pd.DataFrame({\"RegionName\":[\" \".join(k) for k in [i.split(\" \")[:-2] for i in county]]})"
   ]
  }
 ],
 "metadata": {
  "anaconda-cloud": {},
  "kernelspec": {
   "display_name": "Python 2",
   "language": "python",
   "name": "python2"
  },
  "language_info": {
   "codemirror_mode": {
    "name": "ipython",
    "version": 2
   },
   "file_extension": ".py",
   "mimetype": "text/x-python",
   "name": "python",
   "nbconvert_exporter": "python",
   "pygments_lexer": "ipython2",
   "version": "2.7.12"
  }
 },
 "nbformat": 4,
 "nbformat_minor": 2
}
