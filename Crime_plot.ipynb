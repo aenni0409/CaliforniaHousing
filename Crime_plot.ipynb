{
 "cells": [
  {
   "cell_type": "code",
   "execution_count": 52,
   "metadata": {
    "collapsed": false
   },
   "outputs": [],
   "source": [
    "import pandas as pd\n",
    "import numpy as np\n",
    "import os.path\n",
    "#path = \"C:/Users/Xin~/Documents/CaliforniaHousing\"\n",
    "#alldata = pd.read_csv(path+\"/all_data.csv\",header=0)\n",
    "# crime rate data in 2015\n",
    "#ft1 = pd.read_csv(\"crime.csv\")"
   ]
  },
  {
   "cell_type": "code",
   "execution_count": 2,
   "metadata": {
    "collapsed": false
   },
   "outputs": [],
   "source": [
    "#alldata = pd.merge(ft1,alldata,on=\"RegionName\",how = \"outer\")"
   ]
  },
  {
   "cell_type": "code",
   "execution_count": 53,
   "metadata": {
    "collapsed": false
   },
   "outputs": [],
   "source": [
    "alldata.keys()\n",
    "#alldata.to_csv(\"all_data_crimerate.csv\")\n",
    "alldata = pd.read_csv(\"all_data_crimerate.csv\")"
   ]
  },
  {
   "cell_type": "code",
   "execution_count": 54,
   "metadata": {
    "collapsed": false
   },
   "outputs": [
    {
     "data": {
      "image/png": "[encoded data removed]",
      "text/plain": [
       "<matplotlib.figure.Figure at 0xaf50a20>"
      ]
     },
     "metadata": {},
     "output_type": "display_data"
    }
   ],
   "source": [
    "# plot\n",
    "import matplotlib.pyplot as plt\n",
    "\n",
    "fig, ax = plt.subplots(1, 1)\n",
    "# made log transformation. There seems to be a outlier\n",
    "plt.plot(np.log(alldata[\"sold_15\"]), np.log(alldata[\"crime_rate\"]),\"o\")\n",
    "ax.set(xlabel=\"sold_15\" , ylabel = \"crime_rate\")\n",
    "plt.show()"
   ]
  },
  {
   "cell_type": "code",
   "execution_count": 4,
   "metadata": {
    "collapsed": false
   },
   "outputs": [
    {
     "data": {
      "text/plain": [
       "(array([57], dtype=int64),)"
      ]
     },
     "execution_count": 4,
     "metadata": {},
     "output_type": "execute_result"
    }
   ],
   "source": [
    "np.where(alldata.sold_15==alldata.sold_15.max())\n",
    "#alldate.sold_15.max()"
   ]
  },
  {
   "cell_type": "code",
   "execution_count": 5,
   "metadata": {
    "collapsed": false
   },
   "outputs": [
    {
     "data": {
      "text/plain": [
       "'San Francisco'"
      ]
     },
     "execution_count": 5,
     "metadata": {},
     "output_type": "execute_result"
    }
   ],
   "source": [
    "alldata.ix[11,\"RegionName\"]\n",
    "# San Francisco is the outlier. "
   ]
  },
  {
   "cell_type": "code",
   "execution_count": 6,
   "metadata": {
    "collapsed": false
   },
   "outputs": [
    {
     "data": {
      "text/plain": [
       "1107920.8333299998"
      ]
     },
     "execution_count": 6,
     "metadata": {},
     "output_type": "execute_result"
    }
   ],
   "source": [
    "alldata.ix[11,\"sold_15\"]\n",
    "# its hosing price is extremely large"
   ]
  },
  {
   "cell_type": "code",
   "execution_count": 5,
   "metadata": {
    "collapsed": false
   },
   "outputs": [
    {
     "data": {
      "text/plain": [
       "Index([u'Unnamed: 0', u'Unnamed: 0_x', u'RegionName', u'CrimeCases_x',\n",
       "       u'Unnamed: 0.1', u'Population_x', u'StateCode', u'crime_rate',\n",
       "       u'Unnamed: 0_y', u'sold_15', u'sold_16', u'list_15', u'list_16',\n",
       "       u'one_15', u'one_16', u'two_15', u'two_16', u'thre_15', u'thre_16',\n",
       "       u'four_15', u'four_16', u'five_15', u'five_16', u'cond_15', u'cond_16',\n",
       "       u'trip_15', u'trip_16', u'sfr_15', u'sfr_16', u'Unemploy_Rate',\n",
       "       u'Population_y', u'CrimeCases_y', u'Score2016', u'Score2015',\n",
       "       u'Rank2016', u'Highest Rank City 2016', u'Zip2016', u'Rank2015',\n",
       "       u'Highest Rank City 2015', u'Zip2015', u'Number Students',\n",
       "       u'Number of Ranked Elementary Schools',\n",
       "       u'Number of Ranked Middle Schools', u'Number of Ranked High Schools',\n",
       "       u'total_income'],\n",
       "      dtype='object')"
      ]
     },
     "execution_count": 5,
     "metadata": {},
     "output_type": "execute_result"
    }
   ],
   "source": [
    "alldata.keys()"
   ]
  },
  {
   "cell_type": "code",
   "execution_count": 7,
   "metadata": {
    "collapsed": false
   },
   "outputs": [
    {
     "name": "stdout",
     "output_type": "stream",
     "text": [
      "269717.708333 131600.0 1107920.83333\n"
     ]
    }
   ],
   "source": [
    "#med = np.nanmedian(alldata[\"sold_15\"]) # calculating median while ignoring nans\n",
    "#mins = np.min(alldata[\"sold_15\"])\n",
    "#maxs = np.max(alldata[\"sold_15\"])\n",
    "#print med, mins, maxs"
   ]
  },
  {
   "cell_type": "code",
   "execution_count": 55,
   "metadata": {
    "collapsed": false
   },
   "outputs": [
    {
     "name": "stdout",
     "output_type": "stream",
     "text": [
      "182321.5 47048.25 679176.5\n"
     ]
    }
   ],
   "source": [
    "med = np.nanmedian(alldata[\"Population_x\"]) # calculating median while ignoring nans\n",
    "p25 = np.percentile(alldata[\"Population_x\"],25)\n",
    "p75 = np.percentile(alldata[\"Population_x\"],75)\n",
    "print med, p25, p75"
   ]
  },
  {
   "cell_type": "code",
   "execution_count": 56,
   "metadata": {
    "collapsed": false
   },
   "outputs": [],
   "source": [
    "# Divide housing price into 3 groups : 0->low. 1->median. 2->high\n",
    "#highprice = np.where(alldata[\"Population_x\"]>med)\n",
    "#lowprice = np.where(alldata[\"Population_x\"]<=med)\n",
    "highpopu = np.where(alldata[\"Population_x\"]>p75)\n",
    "lowpopu = np.where(alldata[\"Population_x\"]<p25)"
   ]
  },
  {
   "cell_type": "code",
   "execution_count": 57,
   "metadata": {
    "collapsed": false
   },
   "outputs": [],
   "source": [
    "#alldata[\"idprice\"] = [\"low\"]*alldata.shape[0]\n",
    "#alldata[\"idprice\"].ix[highprice[0]] = [\"high\"]*len(highprice[0])\n",
    "alldata[\"idpopu\"] = [\"med\"]*alldata.shape[0]\n",
    "alldata[\"idpopu\"].ix[highpopu[0]] = [\"high\"]*len(highpopu[0])"
   ]
  },
  {
   "cell_type": "code",
   "execution_count": 58,
   "metadata": {
    "collapsed": false
   },
   "outputs": [],
   "source": [
    "#alldate[\"idprice\"].ix[lowprice[0]] = [\"low\"]*len(lowprice[0])\n",
    "alldata[\"idpopu\"].ix[lowpopu[0]] = [\"low\"]*len(lowpopu[0])"
   ]
  },
  {
   "cell_type": "code",
   "execution_count": 59,
   "metadata": {
    "collapsed": false
   },
   "outputs": [
    {
     "data": {
      "image/png": "[encoded data removed]",
      "text/plain": [
       "<matplotlib.figure.Figure at 0xa4e9278>"
      ]
     },
     "metadata": {},
     "output_type": "display_data"
    }
   ],
   "source": [
    "fig, ax = plt.subplots(1, 1)\n",
    "\n",
    "def scatter(group):\n",
    "    plt.plot(np.log(group[\"sold_15\"]), np.log(group[\"crime_rate\"]), \"o\",label=group.name)\n",
    "    \n",
    "alldata.groupby(\"idpopu\").apply(scatter)\n",
    "ax.set(xlabel = \"sold_15\", ylabel = \"crime_rate\")\n",
    "ax.legend(loc = 0)\n",
    "\n",
    "plt.show()"
   ]
  },
  {
   "cell_type": "code",
   "execution_count": 208,
   "metadata": {
    "collapsed": false
   },
   "outputs": [],
   "source": [
    "# draw a dynamic plot of the plot above\n",
    "import plotly.plotly as py\n",
    "import plotly.graph_objs as go\n",
    "import plotly.tools as tls\n",
    "tls.set_credentials_file(username='63xinxin', api_key='mDtzarbNAj4XSeno8Bu2')\n",
    "import numpy as np"
   ]
  },
  {
   "cell_type": "code",
   "execution_count": null,
   "metadata": {
    "collapsed": true
   },
   "outputs": [],
   "source": [
    "# map of criminal rate\n"
   ]
  },
  {
   "cell_type": "code",
   "execution_count": 209,
   "metadata": {
    "collapsed": false
   },
   "outputs": [
    {
     "ename": "PlotlyRequestError",
     "evalue": "Hey there! You've hit one of our API request limits. \n\nTo get unlimited API calls(10,000/day), please upgrade to a paid plan. \n\nUPGRADE HERE: https://goo.gl/i7glmM \n\nThanks for using Plotly! Happy Plotting!",
     "output_type": "error",
     "traceback": [
      "\u001b[0;31m---------------------------------------------------------------------------\u001b[0m",
      "\u001b[0;31mPlotlyRequestError\u001b[0m                        Traceback (most recent call last)",
      "\u001b[0;32m<ipython-input-209-52d086667402>\u001b[0m in \u001b[0;36m<module>\u001b[0;34m()\u001b[0m\n\u001b[1;32m     58\u001b[0m \u001b[1;33m\u001b[0m\u001b[0m\n\u001b[1;32m     59\u001b[0m \u001b[0mfig\u001b[0m \u001b[1;33m=\u001b[0m \u001b[0mgo\u001b[0m\u001b[1;33m.\u001b[0m\u001b[0mFigure\u001b[0m\u001b[1;33m(\u001b[0m\u001b[0mdata\u001b[0m\u001b[1;33m=\u001b[0m\u001b[0mdata\u001b[0m\u001b[1;33m,\u001b[0m \u001b[0mlayout\u001b[0m\u001b[1;33m=\u001b[0m\u001b[0mlayout\u001b[0m\u001b[1;33m)\u001b[0m\u001b[1;33m\u001b[0m\u001b[0m\n\u001b[0;32m---> 60\u001b[0;31m \u001b[0mpy\u001b[0m\u001b[1;33m.\u001b[0m\u001b[0miplot\u001b[0m\u001b[1;33m(\u001b[0m\u001b[0mfig\u001b[0m\u001b[1;33m,\u001b[0m \u001b[0mfilename\u001b[0m\u001b[1;33m=\u001b[0m\u001b[1;34m'Housing-Price-vs-Criminal-Rate-in-2015'\u001b[0m\u001b[1;33m)\u001b[0m\u001b[1;33m\u001b[0m\u001b[0m\n\u001b[0m",
      "\u001b[0;32mC:\\Users\\Xin~\\Anaconda3\\envs\\ipykernel_py2\\lib\\site-packages\\plotly\\plotly\\plotly.pyc\u001b[0m in \u001b[0;36miplot\u001b[0;34m(figure_or_data, **plot_options)\u001b[0m\n\u001b[1;32m    132\u001b[0m     \u001b[1;32mif\u001b[0m \u001b[1;34m'auto_open'\u001b[0m \u001b[1;32mnot\u001b[0m \u001b[1;32min\u001b[0m \u001b[0mplot_options\u001b[0m\u001b[1;33m:\u001b[0m\u001b[1;33m\u001b[0m\u001b[0m\n\u001b[1;32m    133\u001b[0m         \u001b[0mplot_options\u001b[0m\u001b[1;33m[\u001b[0m\u001b[1;34m'auto_open'\u001b[0m\u001b[1;33m]\u001b[0m \u001b[1;33m=\u001b[0m \u001b[0mFalse\u001b[0m\u001b[1;33m\u001b[0m\u001b[0m\n\u001b[0;32m--> 134\u001b[0;31m     \u001b[0murl\u001b[0m \u001b[1;33m=\u001b[0m \u001b[0mplot\u001b[0m\u001b[1;33m(\u001b[0m\u001b[0mfigure_or_data\u001b[0m\u001b[1;33m,\u001b[0m \u001b[1;33m**\u001b[0m\u001b[0mplot_options\u001b[0m\u001b[1;33m)\u001b[0m\u001b[1;33m\u001b[0m\u001b[0m\n\u001b[0m\u001b[1;32m    135\u001b[0m \u001b[1;33m\u001b[0m\u001b[0m\n\u001b[1;32m    136\u001b[0m     \u001b[1;32mif\u001b[0m \u001b[0misinstance\u001b[0m\u001b[1;33m(\u001b[0m\u001b[0mfigure_or_data\u001b[0m\u001b[1;33m,\u001b[0m \u001b[0mdict\u001b[0m\u001b[1;33m)\u001b[0m\u001b[1;33m:\u001b[0m\u001b[1;33m\u001b[0m\u001b[0m\n",
      "\u001b[0;32mC:\\Users\\Xin~\\Anaconda3\\envs\\ipykernel_py2\\lib\\site-packages\\plotly\\plotly\\plotly.pyc\u001b[0m in \u001b[0;36mplot\u001b[0;34m(figure_or_data, validate, **plot_options)\u001b[0m\n\u001b[1;32m    225\u001b[0m     \u001b[0mdata\u001b[0m \u001b[1;33m=\u001b[0m \u001b[0mfig\u001b[0m\u001b[1;33m.\u001b[0m\u001b[0mget\u001b[0m\u001b[1;33m(\u001b[0m\u001b[1;34m'data'\u001b[0m\u001b[1;33m,\u001b[0m \u001b[1;33m[\u001b[0m\u001b[1;33m]\u001b[0m\u001b[1;33m)\u001b[0m\u001b[1;33m\u001b[0m\u001b[0m\n\u001b[1;32m    226\u001b[0m     \u001b[0mplot_options\u001b[0m\u001b[1;33m[\u001b[0m\u001b[1;34m'layout'\u001b[0m\u001b[1;33m]\u001b[0m \u001b[1;33m=\u001b[0m \u001b[0mfig\u001b[0m\u001b[1;33m.\u001b[0m\u001b[0mget\u001b[0m\u001b[1;33m(\u001b[0m\u001b[1;34m'layout'\u001b[0m\u001b[1;33m,\u001b[0m \u001b[1;33m{\u001b[0m\u001b[1;33m}\u001b[0m\u001b[1;33m)\u001b[0m\u001b[1;33m\u001b[0m\u001b[0m\n\u001b[0;32m--> 227\u001b[0;31m     \u001b[0mresponse\u001b[0m \u001b[1;33m=\u001b[0m \u001b[0mv1\u001b[0m\u001b[1;33m.\u001b[0m\u001b[0mclientresp\u001b[0m\u001b[1;33m(\u001b[0m\u001b[0mdata\u001b[0m\u001b[1;33m,\u001b[0m \u001b[1;33m**\u001b[0m\u001b[0mplot_options\u001b[0m\u001b[1;33m)\u001b[0m\u001b[1;33m\u001b[0m\u001b[0m\n\u001b[0m\u001b[1;32m    228\u001b[0m \u001b[1;33m\u001b[0m\u001b[0m\n\u001b[1;32m    229\u001b[0m     \u001b[1;31m# Check if the url needs a secret key\u001b[0m\u001b[1;33m\u001b[0m\u001b[1;33m\u001b[0m\u001b[0m\n",
      "\u001b[0;32mC:\\Users\\Xin~\\Anaconda3\\envs\\ipykernel_py2\\lib\\site-packages\\plotly\\api\\v1\\clientresp.pyc\u001b[0m in \u001b[0;36mclientresp\u001b[0;34m(data, **kwargs)\u001b[0m\n\u001b[1;32m     33\u001b[0m \u001b[1;33m\u001b[0m\u001b[0m\n\u001b[1;32m     34\u001b[0m     \u001b[0murl\u001b[0m \u001b[1;33m=\u001b[0m \u001b[1;34m'{plotly_domain}/clientresp'\u001b[0m\u001b[1;33m.\u001b[0m\u001b[0mformat\u001b[0m\u001b[1;33m(\u001b[0m\u001b[1;33m**\u001b[0m\u001b[0mcfg\u001b[0m\u001b[1;33m)\u001b[0m\u001b[1;33m\u001b[0m\u001b[0m\n\u001b[0;32m---> 35\u001b[0;31m     \u001b[0mresponse\u001b[0m \u001b[1;33m=\u001b[0m \u001b[0mrequest\u001b[0m\u001b[1;33m(\u001b[0m\u001b[1;34m'post'\u001b[0m\u001b[1;33m,\u001b[0m \u001b[0murl\u001b[0m\u001b[1;33m,\u001b[0m \u001b[0mdata\u001b[0m\u001b[1;33m=\u001b[0m\u001b[0mpayload\u001b[0m\u001b[1;33m)\u001b[0m\u001b[1;33m\u001b[0m\u001b[0m\n\u001b[0m\u001b[1;32m     36\u001b[0m \u001b[1;33m\u001b[0m\u001b[0m\n\u001b[1;32m     37\u001b[0m     \u001b[1;31m# Old functionality, just keeping it around.\u001b[0m\u001b[1;33m\u001b[0m\u001b[1;33m\u001b[0m\u001b[0m\n",
      "\u001b[0;32mC:\\Users\\Xin~\\Anaconda3\\envs\\ipykernel_py2\\lib\\site-packages\\plotly\\api\\v1\\utils.pyc\u001b[0m in \u001b[0;36mrequest\u001b[0;34m(method, url, **kwargs)\u001b[0m\n\u001b[1;32m     84\u001b[0m         \u001b[0mcontent\u001b[0m \u001b[1;33m=\u001b[0m \u001b[0mresponse\u001b[0m\u001b[1;33m.\u001b[0m\u001b[0mcontent\u001b[0m \u001b[1;32mif\u001b[0m \u001b[0mresponse\u001b[0m \u001b[1;32melse\u001b[0m \u001b[1;34m'No content'\u001b[0m\u001b[1;33m\u001b[0m\u001b[0m\n\u001b[1;32m     85\u001b[0m         \u001b[1;32mraise\u001b[0m \u001b[0mexceptions\u001b[0m\u001b[1;33m.\u001b[0m\u001b[0mPlotlyRequestError\u001b[0m\u001b[1;33m(\u001b[0m\u001b[0mmessage\u001b[0m\u001b[1;33m,\u001b[0m \u001b[0mstatus_code\u001b[0m\u001b[1;33m,\u001b[0m \u001b[0mcontent\u001b[0m\u001b[1;33m)\u001b[0m\u001b[1;33m\u001b[0m\u001b[0m\n\u001b[0;32m---> 86\u001b[0;31m     \u001b[0mvalidate_response\u001b[0m\u001b[1;33m(\u001b[0m\u001b[0mresponse\u001b[0m\u001b[1;33m)\u001b[0m\u001b[1;33m\u001b[0m\u001b[0m\n\u001b[0m\u001b[1;32m     87\u001b[0m     \u001b[1;32mreturn\u001b[0m \u001b[0mresponse\u001b[0m\u001b[1;33m\u001b[0m\u001b[0m\n",
      "\u001b[0;32mC:\\Users\\Xin~\\Anaconda3\\envs\\ipykernel_py2\\lib\\site-packages\\plotly\\api\\v1\\utils.pyc\u001b[0m in \u001b[0;36mvalidate_response\u001b[0;34m(response)\u001b[0m\n\u001b[1;32m     36\u001b[0m         \u001b[0mmessage\u001b[0m \u001b[1;33m=\u001b[0m \u001b[0mcontent\u001b[0m \u001b[1;32mif\u001b[0m \u001b[0mcontent\u001b[0m \u001b[1;32melse\u001b[0m \u001b[1;34m'No Content'\u001b[0m\u001b[1;33m\u001b[0m\u001b[0m\n\u001b[1;32m     37\u001b[0m \u001b[1;33m\u001b[0m\u001b[0m\n\u001b[0;32m---> 38\u001b[0;31m     \u001b[1;32mraise\u001b[0m \u001b[0mexceptions\u001b[0m\u001b[1;33m.\u001b[0m\u001b[0mPlotlyRequestError\u001b[0m\u001b[1;33m(\u001b[0m\u001b[0mmessage\u001b[0m\u001b[1;33m,\u001b[0m \u001b[0mstatus_code\u001b[0m\u001b[1;33m,\u001b[0m \u001b[0mcontent\u001b[0m\u001b[1;33m)\u001b[0m\u001b[1;33m\u001b[0m\u001b[0m\n\u001b[0m\u001b[1;32m     39\u001b[0m \u001b[1;33m\u001b[0m\u001b[0m\n\u001b[1;32m     40\u001b[0m \u001b[1;33m\u001b[0m\u001b[0m\n",
      "\u001b[0;31mPlotlyRequestError\u001b[0m: Hey there! You've hit one of our API request limits. \n\nTo get unlimited API calls(10,000/day), please upgrade to a paid plan. \n\nUPGRADE HERE: https://goo.gl/i7glmM \n\nThanks for using Plotly! Happy Plotting!"
     ]
    }
   ],
   "source": [
    "# plot of price vs crime_rate. \n",
    "# the reason I got a scatter plot with lines is because I misspelled markers as makers\n",
    "trace0 = go.Scatter(  #low\n",
    "    x = np.log(alldata[\"sold_15\"].ix[lowpopu[0]]),\n",
    "    y = np.log(alldata[\"crime_rate\"].ix[lowpopu[0]]),\n",
    "    name = \"Low\",\n",
    "    mode = \"markers\",\n",
    "    text = alldata.loc[alldata[\"idpopu\"]==\"low\"][\"RegionName\"],\n",
    "    marker = dict(\n",
    "        sizemode='diameter',\n",
    "        sizeref=0.3,\n",
    "        size = np.log(alldata.loc[alldata[\"idpopu\"]==\"low\"][\"Population_x\"]),\n",
    "        \n",
    "    )\n",
    ")\n",
    "\n",
    "trace1 = go.Scatter(  #med\n",
    "    x = np.log(alldata.loc[alldata[\"idpopu\"]==\"med\"][\"sold_15\"]),\n",
    "    y = np.log(alldata.loc[alldata[\"idpopu\"]==\"med\"][\"crime_rate\"]),\n",
    "    name = \"Med\",\n",
    "    mode = \"markers\",\n",
    "    text = alldata.loc[alldata[\"idpopu\"]==\"med\"][\"RegionName\"],\n",
    "    marker = dict(\n",
    "        sizemode='diameter',\n",
    "        sizeref=0.3,\n",
    "        size = np.log(alldata.loc[alldata[\"idpopu\"]==\"med\"][\"Population_x\"]),\n",
    "        #color = 'green',\n",
    "        \n",
    "    )\n",
    ")\n",
    "\n",
    "trace2 = go.Scatter(  #high\n",
    "    x = np.log(alldata[\"sold_15\"].ix[highpopu[0]]),\n",
    "    y = np.log(alldata[\"crime_rate\"].ix[highpopu[0]]),\n",
    "    name = \"High\",\n",
    "    mode = \"markers\",\n",
    "    text = alldata.loc[alldata[\"idpopu\"]==\"high\"][\"RegionName\"],\n",
    "    marker = dict(\n",
    "        sizemode='diameter',\n",
    "        sizeref=0.3,\n",
    "        size = np.log(alldata.loc[alldata[\"idpopu\"]==\"high\"][\"Population_x\"]),\n",
    "        \n",
    "    )\n",
    ")\n",
    "\n",
    "\n",
    "\n",
    "data = [trace0, trace1, trace2]\n",
    "\n",
    "layout = dict(title = 'Housing Price vs Criminal Rate in 2015',\n",
    "              yaxis = dict(zeroline = False),\n",
    "              xaxis = dict(zeroline = False),\n",
    "              paper_bgcolor='rgb(243, 243, 243)',\n",
    "              plot_bgcolor='rgb(243, 243, 243)',\n",
    "\n",
    "             )\n",
    "\n",
    "\n",
    "fig = go.Figure(data=data, layout=layout)\n",
    "py.iplot(fig, filename='Housing-Price-vs-Criminal-Rate-in-2015')\n"
   ]
  },
  {
   "cell_type": "markdown",
   "metadata": {},
   "source": [
    "<p> From this plot we can find out that there is negative relationship between housing price and criminal rate. The larger the price, the smaller the criminal rate. Even though there is overlap between counties of high population and counties of low population, regions with small population tends to have higher criminal rate. This is a very interesting result. Because, most of the time we will think that if there are more people, there tends to be have larger criminal rate. Also, counties with larger population tend to have higher housing price which is reasonable. </p>"
   ]
  },
  {
   "cell_type": "code",
   "execution_count": null,
   "metadata": {
    "collapsed": true
   },
   "outputs": [],
   "source": [
    "# plots of relationship between housing price and criminal rate from 2005-2015. The size of the points are the size of population"
   ]
  },
  {
   "cell_type": "code",
   "execution_count": 137,
   "metadata": {
    "collapsed": false
   },
   "outputs": [],
   "source": [
    "# total population from 2000-2015\n",
    "popu_t = pd.read_csv(\"CA_population.csv\")\n",
    "popu_t = popu_t.iloc[5:]"
   ]
  },
  {
   "cell_type": "code",
   "execution_count": 198,
   "metadata": {
    "collapsed": false
   },
   "outputs": [],
   "source": [
    "all_crime = pd.read_csv(\"crime05-15.csv\")\n",
    "# get the summation of column\n",
    "# transfer to array\n",
    "all_crime = all_crime.as_matrix()\n",
    "# transpose\n",
    "all_crime = np.mean(all_crime[:,2:],axis=0)"
   ]
  },
  {
   "cell_type": "code",
   "execution_count": 202,
   "metadata": {
    "collapsed": false
   },
   "outputs": [],
   "source": [
    "# There is no population data in 2011 and 2012. So delete the corresponding crimecases\n",
    "# is there a easier way to select some values in array?????????????\n",
    "popu_t[\"CrimeCases\"] = all_crime[np.array([0,1,2,3,4,5,6,9,10])]"
   ]
  },
  {
   "cell_type": "code",
   "execution_count": 203,
   "metadata": {
    "collapsed": false
   },
   "outputs": [
    {
     "data": {
      "text/html": [
       "<div>\n",
       "<table border=\"1\" class=\"dataframe\">\n",
       "  <thead>\n",
       "    <tr style=\"text-align: right;\">\n",
       "      <th></th>\n",
       "      <th>Unnamed: 0</th>\n",
       "      <th>Population</th>\n",
       "      <th>State</th>\n",
       "      <th>Year</th>\n",
       "      <th>CrimeCases</th>\n",
       "    </tr>\n",
       "  </thead>\n",
       "  <tbody>\n",
       "    <tr>\n",
       "      <th>5</th>\n",
       "      <td>5</td>\n",
       "      <td>35827943</td>\n",
       "      <td>California</td>\n",
       "      <td>2005</td>\n",
       "      <td>8039.52</td>\n",
       "    </tr>\n",
       "    <tr>\n",
       "      <th>6</th>\n",
       "      <td>6</td>\n",
       "      <td>36021202</td>\n",
       "      <td>California</td>\n",
       "      <td>2006</td>\n",
       "      <td>21239.5</td>\n",
       "    </tr>\n",
       "    <tr>\n",
       "      <th>7</th>\n",
       "      <td>7</td>\n",
       "      <td>36250311</td>\n",
       "      <td>California</td>\n",
       "      <td>2007</td>\n",
       "      <td>7359.2</td>\n",
       "    </tr>\n",
       "    <tr>\n",
       "      <th>8</th>\n",
       "      <td>8</td>\n",
       "      <td>36604337</td>\n",
       "      <td>California</td>\n",
       "      <td>2008</td>\n",
       "      <td>7300.7</td>\n",
       "    </tr>\n",
       "    <tr>\n",
       "      <th>9</th>\n",
       "      <td>9</td>\n",
       "      <td>36961229</td>\n",
       "      <td>California</td>\n",
       "      <td>2009</td>\n",
       "      <td>6694.21</td>\n",
       "    </tr>\n",
       "    <tr>\n",
       "      <th>10</th>\n",
       "      <td>10</td>\n",
       "      <td>37253956</td>\n",
       "      <td>California</td>\n",
       "      <td>2010</td>\n",
       "      <td>6433.25</td>\n",
       "    </tr>\n",
       "    <tr>\n",
       "      <th>11</th>\n",
       "      <td>11</td>\n",
       "      <td>38332521</td>\n",
       "      <td>California</td>\n",
       "      <td>2013</td>\n",
       "      <td>6255.29</td>\n",
       "    </tr>\n",
       "    <tr>\n",
       "      <th>12</th>\n",
       "      <td>12</td>\n",
       "      <td>38431393</td>\n",
       "      <td>California</td>\n",
       "      <td>2014</td>\n",
       "      <td>6206.5</td>\n",
       "    </tr>\n",
       "    <tr>\n",
       "      <th>13</th>\n",
       "      <td>13</td>\n",
       "      <td>39144818</td>\n",
       "      <td>California</td>\n",
       "      <td>2015</td>\n",
       "      <td>6701.12</td>\n",
       "    </tr>\n",
       "  </tbody>\n",
       "</table>\n",
       "</div>"
      ],
      "text/plain": [
       "    Unnamed: 0  Population       State  Year CrimeCases\n",
       "5            5    35827943  California  2005    8039.52\n",
       "6            6    36021202  California  2006    21239.5\n",
       "7            7    36250311  California  2007     7359.2\n",
       "8            8    36604337  California  2008     7300.7\n",
       "9            9    36961229  California  2009    6694.21\n",
       "10          10    37253956  California  2010    6433.25\n",
       "11          11    38332521  California  2013    6255.29\n",
       "12          12    38431393  California  2014     6206.5\n",
       "13          13    39144818  California  2015    6701.12"
      ]
     },
     "execution_count": 203,
     "metadata": {},
     "output_type": "execute_result"
    }
   ],
   "source": [
    "# add housing price\n"
   ]
  }
 ],
 "metadata": {
  "anaconda-cloud": {},
  "kernelspec": {
   "display_name": "Python 2",
   "language": "python",
   "name": "python2"
  },
  "language_info": {
   "codemirror_mode": {
    "name": "ipython",
    "version": 2
   },
   "file_extension": ".py",
   "mimetype": "text/x-python",
   "name": "python",
   "nbconvert_exporter": "python",
   "pygments_lexer": "ipython2",
   "version": "2.7.13"
  }
 },
 "nbformat": 4,
 "nbformat_minor": 1
}
